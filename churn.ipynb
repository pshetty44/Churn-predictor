{
 "cells": [
  {
   "cell_type": "code",
   "execution_count": 670,
   "metadata": {
    "collapsed": false
   },
   "outputs": [],
   "source": [
    "import matplotlib\n",
    "matplotlib.use('Agg')\n",
    "import pandas as pd\n",
    "import numpy as np\n",
    "import matplotlib.pyplot as plt\n",
    "from pandas.tools.plotting import scatter_matrix\n",
    "%matplotlib inline \n",
    "from statsmodels.discrete.discrete_model import Logit\n",
    "from statsmodels.tools import add_constant\n",
    "from sklearn.cross_validation import KFold\n",
    "from sklearn.linear_model import LogisticRegression\n",
    "from sklearn.metrics import accuracy_score, precision_score, recall_score, roc_curve\n",
    "from sklearn.cross_validation import train_test_split\n",
    "from sklearn.ensemble import RandomForestClassifier\n",
    "\n",
    "import sklearn.metrics as metrics\n",
    "from sklearn.tree import DecisionTreeClassifier\n",
    "from sklearn.svm import SVC\n",
    "from sklearn.naive_bayes import MultinomialNB\n",
    "import roc"
   ]
  },
  {
   "cell_type": "markdown",
   "metadata": {
    "collapsed": false
   },
   "source": [
    "## 1. Load and clean data"
   ]
  },
  {
   "cell_type": "code",
   "execution_count": 671,
   "metadata": {
    "collapsed": false
   },
   "outputs": [
    {
     "data": {
      "text/html": [
       "<div>\n",
       "<table border=\"1\" class=\"dataframe\">\n",
       "  <thead>\n",
       "    <tr style=\"text-align: right;\">\n",
       "      <th></th>\n",
       "      <th>avg_dist</th>\n",
       "      <th>avg_rating_by_driver</th>\n",
       "      <th>avg_rating_of_driver</th>\n",
       "      <th>avg_surge</th>\n",
       "      <th>city</th>\n",
       "      <th>last_trip_date</th>\n",
       "      <th>phone</th>\n",
       "      <th>signup_date</th>\n",
       "      <th>surge_pct</th>\n",
       "      <th>trips_in_first_30_days</th>\n",
       "      <th>luxury_car_user</th>\n",
       "      <th>weekday_pct</th>\n",
       "    </tr>\n",
       "  </thead>\n",
       "  <tbody>\n",
       "    <tr>\n",
       "      <th>0</th>\n",
       "      <td>3.67</td>\n",
       "      <td>5.0</td>\n",
       "      <td>4.7</td>\n",
       "      <td>1.10</td>\n",
       "      <td>King's Landing</td>\n",
       "      <td>2014-06-17</td>\n",
       "      <td>iPhone</td>\n",
       "      <td>2014-01-25</td>\n",
       "      <td>15.4</td>\n",
       "      <td>4</td>\n",
       "      <td>True</td>\n",
       "      <td>46.2</td>\n",
       "    </tr>\n",
       "    <tr>\n",
       "      <th>1</th>\n",
       "      <td>8.26</td>\n",
       "      <td>5.0</td>\n",
       "      <td>5.0</td>\n",
       "      <td>1.00</td>\n",
       "      <td>Astapor</td>\n",
       "      <td>2014-05-05</td>\n",
       "      <td>Android</td>\n",
       "      <td>2014-01-29</td>\n",
       "      <td>0.0</td>\n",
       "      <td>0</td>\n",
       "      <td>False</td>\n",
       "      <td>50.0</td>\n",
       "    </tr>\n",
       "    <tr>\n",
       "      <th>2</th>\n",
       "      <td>0.77</td>\n",
       "      <td>5.0</td>\n",
       "      <td>4.3</td>\n",
       "      <td>1.00</td>\n",
       "      <td>Astapor</td>\n",
       "      <td>2014-01-07</td>\n",
       "      <td>iPhone</td>\n",
       "      <td>2014-01-06</td>\n",
       "      <td>0.0</td>\n",
       "      <td>3</td>\n",
       "      <td>False</td>\n",
       "      <td>100.0</td>\n",
       "    </tr>\n",
       "    <tr>\n",
       "      <th>3</th>\n",
       "      <td>2.36</td>\n",
       "      <td>4.9</td>\n",
       "      <td>4.6</td>\n",
       "      <td>1.14</td>\n",
       "      <td>King's Landing</td>\n",
       "      <td>2014-06-29</td>\n",
       "      <td>iPhone</td>\n",
       "      <td>2014-01-10</td>\n",
       "      <td>20.0</td>\n",
       "      <td>9</td>\n",
       "      <td>True</td>\n",
       "      <td>80.0</td>\n",
       "    </tr>\n",
       "    <tr>\n",
       "      <th>4</th>\n",
       "      <td>3.13</td>\n",
       "      <td>4.9</td>\n",
       "      <td>4.4</td>\n",
       "      <td>1.19</td>\n",
       "      <td>Winterfell</td>\n",
       "      <td>2014-03-15</td>\n",
       "      <td>Android</td>\n",
       "      <td>2014-01-27</td>\n",
       "      <td>11.8</td>\n",
       "      <td>14</td>\n",
       "      <td>False</td>\n",
       "      <td>82.4</td>\n",
       "    </tr>\n",
       "  </tbody>\n",
       "</table>\n",
       "</div>"
      ],
      "text/plain": [
       "   avg_dist  avg_rating_by_driver  avg_rating_of_driver  avg_surge  \\\n",
       "0      3.67                   5.0                   4.7       1.10   \n",
       "1      8.26                   5.0                   5.0       1.00   \n",
       "2      0.77                   5.0                   4.3       1.00   \n",
       "3      2.36                   4.9                   4.6       1.14   \n",
       "4      3.13                   4.9                   4.4       1.19   \n",
       "\n",
       "             city last_trip_date    phone signup_date  surge_pct  \\\n",
       "0  King's Landing     2014-06-17   iPhone  2014-01-25       15.4   \n",
       "1         Astapor     2014-05-05  Android  2014-01-29        0.0   \n",
       "2         Astapor     2014-01-07   iPhone  2014-01-06        0.0   \n",
       "3  King's Landing     2014-06-29   iPhone  2014-01-10       20.0   \n",
       "4      Winterfell     2014-03-15  Android  2014-01-27       11.8   \n",
       "\n",
       "   trips_in_first_30_days luxury_car_user  weekday_pct  \n",
       "0                       4            True         46.2  \n",
       "1                       0           False         50.0  \n",
       "2                       3           False        100.0  \n",
       "3                       9            True         80.0  \n",
       "4                      14           False         82.4  "
      ]
     },
     "execution_count": 671,
     "metadata": {},
     "output_type": "execute_result"
    }
   ],
   "source": [
    "churn = pd.read_csv('./data/churn.csv')\n",
    "churn.head(5)"
   ]
  },
  {
   "cell_type": "code",
   "execution_count": 672,
   "metadata": {
    "collapsed": false
   },
   "outputs": [
    {
     "data": {
      "text/html": [
       "<div>\n",
       "<table border=\"1\" class=\"dataframe\">\n",
       "  <thead>\n",
       "    <tr style=\"text-align: right;\">\n",
       "      <th></th>\n",
       "      <th>avg_dist</th>\n",
       "      <th>avg_rating_by_driver</th>\n",
       "      <th>avg_rating_of_driver</th>\n",
       "      <th>avg_surge</th>\n",
       "      <th>surge_pct</th>\n",
       "      <th>trips_in_first_30_days</th>\n",
       "      <th>weekday_pct</th>\n",
       "    </tr>\n",
       "  </thead>\n",
       "  <tbody>\n",
       "    <tr>\n",
       "      <th>count</th>\n",
       "      <td>50000.000000</td>\n",
       "      <td>49799.000000</td>\n",
       "      <td>41878.000000</td>\n",
       "      <td>50000.000000</td>\n",
       "      <td>50000.000000</td>\n",
       "      <td>50000.000000</td>\n",
       "      <td>50000.000000</td>\n",
       "    </tr>\n",
       "    <tr>\n",
       "      <th>mean</th>\n",
       "      <td>5.796827</td>\n",
       "      <td>4.778158</td>\n",
       "      <td>4.601559</td>\n",
       "      <td>1.074764</td>\n",
       "      <td>8.849536</td>\n",
       "      <td>2.278200</td>\n",
       "      <td>60.926084</td>\n",
       "    </tr>\n",
       "    <tr>\n",
       "      <th>std</th>\n",
       "      <td>5.707357</td>\n",
       "      <td>0.446652</td>\n",
       "      <td>0.617338</td>\n",
       "      <td>0.222336</td>\n",
       "      <td>19.958811</td>\n",
       "      <td>3.792684</td>\n",
       "      <td>37.081503</td>\n",
       "    </tr>\n",
       "    <tr>\n",
       "      <th>min</th>\n",
       "      <td>0.000000</td>\n",
       "      <td>1.000000</td>\n",
       "      <td>1.000000</td>\n",
       "      <td>1.000000</td>\n",
       "      <td>0.000000</td>\n",
       "      <td>0.000000</td>\n",
       "      <td>0.000000</td>\n",
       "    </tr>\n",
       "    <tr>\n",
       "      <th>25%</th>\n",
       "      <td>2.420000</td>\n",
       "      <td>4.700000</td>\n",
       "      <td>4.300000</td>\n",
       "      <td>1.000000</td>\n",
       "      <td>0.000000</td>\n",
       "      <td>0.000000</td>\n",
       "      <td>33.300000</td>\n",
       "    </tr>\n",
       "    <tr>\n",
       "      <th>50%</th>\n",
       "      <td>3.880000</td>\n",
       "      <td>5.000000</td>\n",
       "      <td>4.900000</td>\n",
       "      <td>1.000000</td>\n",
       "      <td>0.000000</td>\n",
       "      <td>1.000000</td>\n",
       "      <td>66.700000</td>\n",
       "    </tr>\n",
       "    <tr>\n",
       "      <th>75%</th>\n",
       "      <td>6.940000</td>\n",
       "      <td>5.000000</td>\n",
       "      <td>5.000000</td>\n",
       "      <td>1.050000</td>\n",
       "      <td>8.600000</td>\n",
       "      <td>3.000000</td>\n",
       "      <td>100.000000</td>\n",
       "    </tr>\n",
       "    <tr>\n",
       "      <th>max</th>\n",
       "      <td>160.960000</td>\n",
       "      <td>5.000000</td>\n",
       "      <td>5.000000</td>\n",
       "      <td>8.000000</td>\n",
       "      <td>100.000000</td>\n",
       "      <td>125.000000</td>\n",
       "      <td>100.000000</td>\n",
       "    </tr>\n",
       "  </tbody>\n",
       "</table>\n",
       "</div>"
      ],
      "text/plain": [
       "           avg_dist  avg_rating_by_driver  avg_rating_of_driver     avg_surge  \\\n",
       "count  50000.000000          49799.000000          41878.000000  50000.000000   \n",
       "mean       5.796827              4.778158              4.601559      1.074764   \n",
       "std        5.707357              0.446652              0.617338      0.222336   \n",
       "min        0.000000              1.000000              1.000000      1.000000   \n",
       "25%        2.420000              4.700000              4.300000      1.000000   \n",
       "50%        3.880000              5.000000              4.900000      1.000000   \n",
       "75%        6.940000              5.000000              5.000000      1.050000   \n",
       "max      160.960000              5.000000              5.000000      8.000000   \n",
       "\n",
       "          surge_pct  trips_in_first_30_days   weekday_pct  \n",
       "count  50000.000000            50000.000000  50000.000000  \n",
       "mean       8.849536                2.278200     60.926084  \n",
       "std       19.958811                3.792684     37.081503  \n",
       "min        0.000000                0.000000      0.000000  \n",
       "25%        0.000000                0.000000     33.300000  \n",
       "50%        0.000000                1.000000     66.700000  \n",
       "75%        8.600000                3.000000    100.000000  \n",
       "max      100.000000              125.000000    100.000000  "
      ]
     },
     "execution_count": 672,
     "metadata": {},
     "output_type": "execute_result"
    }
   ],
   "source": [
    "churn.describe()"
   ]
  },
  {
   "cell_type": "code",
   "execution_count": 673,
   "metadata": {
    "collapsed": false
   },
   "outputs": [
    {
     "data": {
      "text/plain": [
       "avg_dist                  False\n",
       "avg_rating_by_driver       True\n",
       "avg_rating_of_driver       True\n",
       "avg_surge                 False\n",
       "city                      False\n",
       "last_trip_date            False\n",
       "phone                      True\n",
       "signup_date               False\n",
       "surge_pct                 False\n",
       "trips_in_first_30_days    False\n",
       "luxury_car_user           False\n",
       "weekday_pct               False\n",
       "dtype: bool"
      ]
     },
     "execution_count": 673,
     "metadata": {},
     "output_type": "execute_result"
    }
   ],
   "source": [
    "#check for nulls\n",
    "churn.isnull().any()"
   ]
  },
  {
   "cell_type": "code",
   "execution_count": 674,
   "metadata": {
    "collapsed": true
   },
   "outputs": [],
   "source": [
    "#fill NAs of average rating columns with 6. 6 indicates data not available\n",
    "#Also fill NAs for phone feature as unknown\n",
    "churn['avg_rating_by_driver'].fillna(6, inplace=True)\n",
    "churn['avg_rating_of_driver'].fillna(6, inplace=True)\n",
    "churn['phone'].fillna('unknown', inplace=True)"
   ]
  },
  {
   "cell_type": "markdown",
   "metadata": {},
   "source": [
    "#### Add target variable."
   ]
  },
  {
   "cell_type": "code",
   "execution_count": 675,
   "metadata": {
    "collapsed": false
   },
   "outputs": [],
   "source": [
    "#Add target variable. The business describes churn as a user who has no activity \n",
    "#in the last 30 days of his/her last trip.\n",
    "\n",
    "#Get the latest date ie date when the extract was pulled.\n",
    "latest_date = pd.to_datetime(churn['last_trip_date'].max())\n",
    "#For days greater than 30(between last trip and latest date), the user is inactive ie churn user\n",
    "churn['churn']=np.where(((latest_date - pd.to_datetime(churn.last_trip_date)) / np.timedelta64(1, 'D')) <= 30,0,1)\n"
   ]
  },
  {
   "cell_type": "code",
   "execution_count": 676,
   "metadata": {
    "collapsed": false
   },
   "outputs": [],
   "source": [
    "#Convert True/False to int \n",
    "churn['luxury_car_user'] = churn['luxury_car_user'].astype(int)"
   ]
  },
  {
   "cell_type": "markdown",
   "metadata": {},
   "source": [
    "## 2. Visualize data"
   ]
  },
  {
   "cell_type": "code",
   "execution_count": 677,
   "metadata": {
    "collapsed": false
   },
   "outputs": [
    {
     "data": {
      "image/png": "[encoded data removed]",
      "text/plain": [
       "<matplotlib.figure.Figure at 0x123d03ad0>"
      ]
     },
     "metadata": {},
     "output_type": "display_data"
    }
   ],
   "source": [
    "churn.hist('surge_pct');"
   ]
  },
  {
   "cell_type": "code",
   "execution_count": 678,
   "metadata": {
    "collapsed": false
   },
   "outputs": [
    {
     "data": {
      "image/png": "[encoded data removed]",
      "text/plain": [
       "<matplotlib.figure.Figure at 0x11caf7090>"
      ]
     },
     "metadata": {},
     "output_type": "display_data"
    }
   ],
   "source": [
    "phone_data = churn.groupby(['phone','churn']).size().unstack()\n",
    "my_plot = phone_data.plot(kind='bar',stacked=True,title=\"Churn by type of phone users\")\n",
    "my_plot.set_xlabel(\"Phone Type\")\n",
    "my_plot.set_ylabel(\"No of users\")\n",
    "my_plot.legend([\"Active users\",\"Inactive users\"]);"
   ]
  },
  {
   "cell_type": "markdown",
   "metadata": {},
   "source": [
    "#### As per the chart, a high percentage of Android users have churned. The company might want to look at the Android app to figure out why Android users are not as active as Iphone users."
   ]
  },
  {
   "cell_type": "code",
   "execution_count": 679,
   "metadata": {
    "collapsed": false
   },
   "outputs": [
    {
     "data": {
      "image/png": "[encoded data removed]",
      "text/plain": [
       "<matplotlib.figure.Figure at 0x11a934f10>"
      ]
     },
     "metadata": {},
     "output_type": "display_data"
    }
   ],
   "source": [
    "first_30_days = churn.groupby(['churn']).mean()['trips_in_first_30_days']\n",
    "my_plot = first_30_days.plot(kind='bar',title=\"Trips_in_first_30_days comparison\")\n",
    "my_plot.set_xlabel(\"Churn vs non-churn users\")\n",
    "my_plot.set_ylabel(\"Trips_in_first_30_days\")\n",
    "my_plot.set_xticklabels(['Non-churn users','Churn users'],rotation=0);"
   ]
  },
  {
   "cell_type": "markdown",
   "metadata": {},
   "source": [
    "** On average, active users made 3.3 trips in the first month, compared to 1.65 trips for a non active user. We can use this feature to predict if a user will churn or not in the future.**"
   ]
  },
  {
   "cell_type": "code",
   "execution_count": 680,
   "metadata": {
    "collapsed": false
   },
   "outputs": [
    {
     "data": {
      "image/png": "[encoded data removed]",
      "text/plain": [
       "<matplotlib.figure.Figure at 0x1223d8710>"
      ]
     },
     "metadata": {},
     "output_type": "display_data"
    }
   ],
   "source": [
    "luxury_car_user = churn.groupby(['churn']).mean()['luxury_car_user']\n",
    "my_plot = luxury_car_user.plot(kind='bar',title=\"luxury_car_user comparison\")\n",
    "my_plot.set_xlabel(\"Churn vs non-churn users\")\n",
    "my_plot.set_ylabel(\"Luxury_car_user mean\")\n",
    "my_plot.set_xticklabels(['Non-churn users','Churn users'],rotation=0);"
   ]
  },
  {
   "cell_type": "markdown",
   "metadata": {},
   "source": [
    "** Luxury car users are more active(less churn) than regular car users.**"
   ]
  },
  {
   "cell_type": "code",
   "execution_count": 681,
   "metadata": {
    "collapsed": false
   },
   "outputs": [
    {
     "data": {
      "image/png": "[encoded data removed]",
      "text/plain": [
       "<matplotlib.figure.Figure at 0x11b7d50d0>"
      ]
     },
     "metadata": {},
     "output_type": "display_data"
    }
   ],
   "source": [
    "avg_dist = churn.groupby(['churn']).mean()['avg_dist']\n",
    "my_plot = avg_dist.plot(kind='bar',title=\"Average distance\")\n",
    "my_plot.set_xlabel(\"Churn vs non-churn users\")\n",
    "my_plot.set_ylabel(\"Average distance\")\n",
    "my_plot.set_xticklabels(['Non-churn users','Churn users'],rotation=0);\n",
    "\n"
   ]
  },
  {
   "cell_type": "markdown",
   "metadata": {},
   "source": [
    "#### The average distance of an active user is 5.11 miles compared to 6.20 miles of an inactive user. "
   ]
  },
  {
   "cell_type": "code",
   "execution_count": 682,
   "metadata": {
    "collapsed": false
   },
   "outputs": [
    {
     "data": {
      "image/png": "[encoded data removed]",
      "text/plain": [
       "<matplotlib.figure.Figure at 0x11c892990>"
      ]
     },
     "metadata": {},
     "output_type": "display_data"
    }
   ],
   "source": [
    "churn_bycity_data = churn.groupby(['city','churn']).size().unstack()\n",
    "my_plot = churn_bycity_data.plot(kind='bar',stacked=True,title=\"Churn by city\")\n",
    "my_plot.set_xlabel(\"City\")\n",
    "my_plot.set_ylabel(\"No of users\")\n",
    "my_plot.set_xticklabels(['Astapor','King\\'s Landing','Winterfell'],rotation=0);\n",
    "my_plot.legend([\"Active users\",\"Inactive users\"],loc='upper center');"
   ]
  },
  {
   "cell_type": "markdown",
   "metadata": {},
   "source": [
    "#### King's Landing City has the highest ratio of active users compared to any other city."
   ]
  },
  {
   "cell_type": "markdown",
   "metadata": {},
   "source": [
    "### 3.Feature selection"
   ]
  },
  {
   "cell_type": "code",
   "execution_count": 683,
   "metadata": {
    "collapsed": false
   },
   "outputs": [
    {
     "data": {
      "text/html": [
       "<div>\n",
       "<table border=\"1\" class=\"dataframe\">\n",
       "  <thead>\n",
       "    <tr style=\"text-align: right;\">\n",
       "      <th></th>\n",
       "      <th>avg_dist</th>\n",
       "      <th>avg_rating_by_driver</th>\n",
       "      <th>avg_rating_of_driver</th>\n",
       "      <th>avg_surge</th>\n",
       "      <th>surge_pct</th>\n",
       "      <th>trips_in_first_30_days</th>\n",
       "      <th>luxury_car_user</th>\n",
       "      <th>weekday_pct</th>\n",
       "      <th>churn</th>\n",
       "    </tr>\n",
       "  </thead>\n",
       "  <tbody>\n",
       "    <tr>\n",
       "      <th>avg_dist</th>\n",
       "      <td>1.000000</td>\n",
       "      <td>0.079324</td>\n",
       "      <td>0.109990</td>\n",
       "      <td>-0.081491</td>\n",
       "      <td>-0.104414</td>\n",
       "      <td>-0.136329</td>\n",
       "      <td>0.032310</td>\n",
       "      <td>0.101652</td>\n",
       "      <td>0.092780</td>\n",
       "    </tr>\n",
       "    <tr>\n",
       "      <th>avg_rating_by_driver</th>\n",
       "      <td>0.079324</td>\n",
       "      <td>1.000000</td>\n",
       "      <td>0.081744</td>\n",
       "      <td>0.014790</td>\n",
       "      <td>0.023427</td>\n",
       "      <td>-0.043463</td>\n",
       "      <td>0.004533</td>\n",
       "      <td>0.017814</td>\n",
       "      <td>0.030769</td>\n",
       "    </tr>\n",
       "    <tr>\n",
       "      <th>avg_rating_of_driver</th>\n",
       "      <td>0.109990</td>\n",
       "      <td>0.081744</td>\n",
       "      <td>1.000000</td>\n",
       "      <td>-0.011388</td>\n",
       "      <td>-0.006915</td>\n",
       "      <td>-0.140080</td>\n",
       "      <td>-0.026131</td>\n",
       "      <td>-0.005720</td>\n",
       "      <td>0.115360</td>\n",
       "    </tr>\n",
       "    <tr>\n",
       "      <th>avg_surge</th>\n",
       "      <td>-0.081491</td>\n",
       "      <td>0.014790</td>\n",
       "      <td>-0.011388</td>\n",
       "      <td>1.000000</td>\n",
       "      <td>0.793582</td>\n",
       "      <td>-0.001841</td>\n",
       "      <td>-0.078791</td>\n",
       "      <td>-0.110071</td>\n",
       "      <td>0.003333</td>\n",
       "    </tr>\n",
       "    <tr>\n",
       "      <th>surge_pct</th>\n",
       "      <td>-0.104414</td>\n",
       "      <td>0.023427</td>\n",
       "      <td>-0.006915</td>\n",
       "      <td>0.793582</td>\n",
       "      <td>1.000000</td>\n",
       "      <td>0.005720</td>\n",
       "      <td>-0.106861</td>\n",
       "      <td>-0.144918</td>\n",
       "      <td>-0.011797</td>\n",
       "    </tr>\n",
       "    <tr>\n",
       "      <th>trips_in_first_30_days</th>\n",
       "      <td>-0.136329</td>\n",
       "      <td>-0.043463</td>\n",
       "      <td>-0.140080</td>\n",
       "      <td>-0.001841</td>\n",
       "      <td>0.005720</td>\n",
       "      <td>1.000000</td>\n",
       "      <td>0.112210</td>\n",
       "      <td>0.050388</td>\n",
       "      <td>-0.210463</td>\n",
       "    </tr>\n",
       "    <tr>\n",
       "      <th>luxury_car_user</th>\n",
       "      <td>0.032310</td>\n",
       "      <td>0.004533</td>\n",
       "      <td>-0.026131</td>\n",
       "      <td>-0.078791</td>\n",
       "      <td>-0.106861</td>\n",
       "      <td>0.112210</td>\n",
       "      <td>1.000000</td>\n",
       "      <td>0.035998</td>\n",
       "      <td>-0.205002</td>\n",
       "    </tr>\n",
       "    <tr>\n",
       "      <th>weekday_pct</th>\n",
       "      <td>0.101652</td>\n",
       "      <td>0.017814</td>\n",
       "      <td>-0.005720</td>\n",
       "      <td>-0.110071</td>\n",
       "      <td>-0.144918</td>\n",
       "      <td>0.050388</td>\n",
       "      <td>0.035998</td>\n",
       "      <td>1.000000</td>\n",
       "      <td>-0.009693</td>\n",
       "    </tr>\n",
       "    <tr>\n",
       "      <th>churn</th>\n",
       "      <td>0.092780</td>\n",
       "      <td>0.030769</td>\n",
       "      <td>0.115360</td>\n",
       "      <td>0.003333</td>\n",
       "      <td>-0.011797</td>\n",
       "      <td>-0.210463</td>\n",
       "      <td>-0.205002</td>\n",
       "      <td>-0.009693</td>\n",
       "      <td>1.000000</td>\n",
       "    </tr>\n",
       "  </tbody>\n",
       "</table>\n",
       "</div>"
      ],
      "text/plain": [
       "                        avg_dist  avg_rating_by_driver  avg_rating_of_driver  \\\n",
       "avg_dist                1.000000              0.079324              0.109990   \n",
       "avg_rating_by_driver    0.079324              1.000000              0.081744   \n",
       "avg_rating_of_driver    0.109990              0.081744              1.000000   \n",
       "avg_surge              -0.081491              0.014790             -0.011388   \n",
       "surge_pct              -0.104414              0.023427             -0.006915   \n",
       "trips_in_first_30_days -0.136329             -0.043463             -0.140080   \n",
       "luxury_car_user         0.032310              0.004533             -0.026131   \n",
       "weekday_pct             0.101652              0.017814             -0.005720   \n",
       "churn                   0.092780              0.030769              0.115360   \n",
       "\n",
       "                        avg_surge  surge_pct  trips_in_first_30_days  \\\n",
       "avg_dist                -0.081491  -0.104414               -0.136329   \n",
       "avg_rating_by_driver     0.014790   0.023427               -0.043463   \n",
       "avg_rating_of_driver    -0.011388  -0.006915               -0.140080   \n",
       "avg_surge                1.000000   0.793582               -0.001841   \n",
       "surge_pct                0.793582   1.000000                0.005720   \n",
       "trips_in_first_30_days  -0.001841   0.005720                1.000000   \n",
       "luxury_car_user         -0.078791  -0.106861                0.112210   \n",
       "weekday_pct             -0.110071  -0.144918                0.050388   \n",
       "churn                    0.003333  -0.011797               -0.210463   \n",
       "\n",
       "                        luxury_car_user  weekday_pct     churn  \n",
       "avg_dist                       0.032310     0.101652  0.092780  \n",
       "avg_rating_by_driver           0.004533     0.017814  0.030769  \n",
       "avg_rating_of_driver          -0.026131    -0.005720  0.115360  \n",
       "avg_surge                     -0.078791    -0.110071  0.003333  \n",
       "surge_pct                     -0.106861    -0.144918 -0.011797  \n",
       "trips_in_first_30_days         0.112210     0.050388 -0.210463  \n",
       "luxury_car_user                1.000000     0.035998 -0.205002  \n",
       "weekday_pct                    0.035998     1.000000 -0.009693  \n",
       "churn                         -0.205002    -0.009693  1.000000  "
      ]
     },
     "execution_count": 683,
     "metadata": {},
     "output_type": "execute_result"
    }
   ],
   "source": [
    "#look at correlation between features.\n",
    "churn.corr()"
   ]
  },
  {
   "cell_type": "markdown",
   "metadata": {},
   "source": [
    "#### Notice a strong correlation between avg_surge and surge_pct. This makes sense as both these features are related. So we need to ignore one of the features while building the model.\n",
    "\n",
    "#### Also we should ignore the feature last_trip_date in our model since we derive the target from this column. This will avoid leakage issues."
   ]
  },
  {
   "cell_type": "code",
   "execution_count": 684,
   "metadata": {
    "collapsed": false
   },
   "outputs": [],
   "source": [
    "#Make the categorical variables as dummy\n",
    "phone = pd.get_dummies(churn['phone'],drop_first=True)\n",
    "churn = pd.concat([churn, phone], axis=1)\n",
    "\n",
    "city = pd.get_dummies(churn['city'],drop_first=True)\n",
    "churn = pd.concat([churn, city], axis=1)\n",
    "\n",
    "churn.pop('avg_surge')\n",
    "churn.pop('city')\n",
    "churn.pop('last_trip_date')\n",
    "churn.pop('phone')\n",
    "churn.pop('signup_date')\n",
    "y = churn.pop('churn').values\n",
    "\n"
   ]
  },
  {
   "cell_type": "markdown",
   "metadata": {},
   "source": [
    "### 4.Model data"
   ]
  },
  {
   "cell_type": "markdown",
   "metadata": {},
   "source": [
    "#### a) Run the logit function to check for feature significance"
   ]
  },
  {
   "cell_type": "code",
   "execution_count": 685,
   "metadata": {
    "collapsed": false
   },
   "outputs": [
    {
     "name": "stdout",
     "output_type": "stream",
     "text": [
      "Optimization terminated successfully.\n",
      "         Current function value: 0.554557\n",
      "         Iterations 6\n"
     ]
    }
   ],
   "source": [
    " #The statsmodels function we're going to be using requires that intercepts/constants are specified explicitly.\n",
    "X_const = add_constant(churn, prepend=True)\n",
    "logit_model = Logit(y, X_const).fit()"
   ]
  },
  {
   "cell_type": "code",
   "execution_count": 686,
   "metadata": {
    "collapsed": false
   },
   "outputs": [
    {
     "data": {
      "text/html": [
       "<table class=\"simpletable\">\n",
       "<caption>Logit Regression Results</caption>\n",
       "<tr>\n",
       "  <th>Dep. Variable:</th>         <td>y</td>        <th>  No. Observations:  </th>  <td> 50000</td> \n",
       "</tr>\n",
       "<tr>\n",
       "  <th>Model:</th>               <td>Logit</td>      <th>  Df Residuals:      </th>  <td> 49988</td> \n",
       "</tr>\n",
       "<tr>\n",
       "  <th>Method:</th>               <td>MLE</td>       <th>  Df Model:          </th>  <td>    11</td> \n",
       "</tr>\n",
       "<tr>\n",
       "  <th>Date:</th>          <td>Tue, 24 Jan 2017</td> <th>  Pseudo R-squ.:     </th>  <td>0.1624</td> \n",
       "</tr>\n",
       "<tr>\n",
       "  <th>Time:</th>              <td>18:19:52</td>     <th>  Log-Likelihood:    </th> <td> -27728.</td>\n",
       "</tr>\n",
       "<tr>\n",
       "  <th>converged:</th>           <td>True</td>       <th>  LL-Null:           </th> <td> -33106.</td>\n",
       "</tr>\n",
       "<tr>\n",
       "  <th> </th>                      <td> </td>        <th>  LLR p-value:       </th>  <td> 0.000</td> \n",
       "</tr>\n",
       "</table>\n",
       "<table class=\"simpletable\">\n",
       "<tr>\n",
       "             <td></td>               <th>coef</th>     <th>std err</th>      <th>z</th>      <th>P>|z|</th> <th>[95.0% Conf. Int.]</th> \n",
       "</tr>\n",
       "<tr>\n",
       "  <th>const</th>                  <td>    0.4870</td> <td>    0.128</td> <td>    3.812</td> <td> 0.000</td> <td>    0.237     0.737</td>\n",
       "</tr>\n",
       "<tr>\n",
       "  <th>avg_dist</th>               <td>    0.0341</td> <td>    0.002</td> <td>   16.327</td> <td> 0.000</td> <td>    0.030     0.038</td>\n",
       "</tr>\n",
       "<tr>\n",
       "  <th>avg_rating_by_driver</th>   <td>    0.1535</td> <td>    0.023</td> <td>    6.766</td> <td> 0.000</td> <td>    0.109     0.198</td>\n",
       "</tr>\n",
       "<tr>\n",
       "  <th>avg_rating_of_driver</th>   <td>    0.2302</td> <td>    0.014</td> <td>   16.789</td> <td> 0.000</td> <td>    0.203     0.257</td>\n",
       "</tr>\n",
       "<tr>\n",
       "  <th>surge_pct</th>              <td>   -0.0023</td> <td>    0.001</td> <td>   -4.314</td> <td> 0.000</td> <td>   -0.003    -0.001</td>\n",
       "</tr>\n",
       "<tr>\n",
       "  <th>trips_in_first_30_days</th> <td>   -0.1122</td> <td>    0.003</td> <td>  -32.600</td> <td> 0.000</td> <td>   -0.119    -0.105</td>\n",
       "</tr>\n",
       "<tr>\n",
       "  <th>luxury_car_user</th>        <td>   -0.8688</td> <td>    0.021</td> <td>  -40.580</td> <td> 0.000</td> <td>   -0.911    -0.827</td>\n",
       "</tr>\n",
       "<tr>\n",
       "  <th>weekday_pct</th>            <td>    0.0002</td> <td>    0.000</td> <td>    0.724</td> <td> 0.469</td> <td>   -0.000     0.001</td>\n",
       "</tr>\n",
       "<tr>\n",
       "  <th>iPhone</th>                 <td>   -1.0788</td> <td>    0.025</td> <td>  -43.762</td> <td> 0.000</td> <td>   -1.127    -1.030</td>\n",
       "</tr>\n",
       "<tr>\n",
       "  <th>unknown</th>                <td>   -0.4825</td> <td>    0.118</td> <td>   -4.100</td> <td> 0.000</td> <td>   -0.713    -0.252</td>\n",
       "</tr>\n",
       "<tr>\n",
       "  <th>King's Landing</th>         <td>   -1.7294</td> <td>    0.030</td> <td>  -58.287</td> <td> 0.000</td> <td>   -1.788    -1.671</td>\n",
       "</tr>\n",
       "<tr>\n",
       "  <th>Winterfell</th>             <td>   -0.4997</td> <td>    0.024</td> <td>  -20.462</td> <td> 0.000</td> <td>   -0.548    -0.452</td>\n",
       "</tr>\n",
       "</table>"
      ],
      "text/plain": [
       "<class 'statsmodels.iolib.summary.Summary'>\n",
       "\"\"\"\n",
       "                           Logit Regression Results                           \n",
       "==============================================================================\n",
       "Dep. Variable:                      y   No. Observations:                50000\n",
       "Model:                          Logit   Df Residuals:                    49988\n",
       "Method:                           MLE   Df Model:                           11\n",
       "Date:                Tue, 24 Jan 2017   Pseudo R-squ.:                  0.1624\n",
       "Time:                        18:19:52   Log-Likelihood:                -27728.\n",
       "converged:                       True   LL-Null:                       -33106.\n",
       "                                        LLR p-value:                     0.000\n",
       "==========================================================================================\n",
       "                             coef    std err          z      P>|z|      [95.0% Conf. Int.]\n",
       "------------------------------------------------------------------------------------------\n",
       "const                      0.4870      0.128      3.812      0.000         0.237     0.737\n",
       "avg_dist                   0.0341      0.002     16.327      0.000         0.030     0.038\n",
       "avg_rating_by_driver       0.1535      0.023      6.766      0.000         0.109     0.198\n",
       "avg_rating_of_driver       0.2302      0.014     16.789      0.000         0.203     0.257\n",
       "surge_pct                 -0.0023      0.001     -4.314      0.000        -0.003    -0.001\n",
       "trips_in_first_30_days    -0.1122      0.003    -32.600      0.000        -0.119    -0.105\n",
       "luxury_car_user           -0.8688      0.021    -40.580      0.000        -0.911    -0.827\n",
       "weekday_pct                0.0002      0.000      0.724      0.469        -0.000     0.001\n",
       "iPhone                    -1.0788      0.025    -43.762      0.000        -1.127    -1.030\n",
       "unknown                   -0.4825      0.118     -4.100      0.000        -0.713    -0.252\n",
       "King's Landing            -1.7294      0.030    -58.287      0.000        -1.788    -1.671\n",
       "Winterfell                -0.4997      0.024    -20.462      0.000        -0.548    -0.452\n",
       "==========================================================================================\n",
       "\"\"\""
      ]
     },
     "execution_count": 686,
     "metadata": {},
     "output_type": "execute_result"
    }
   ],
   "source": [
    "logit_model.summary()"
   ]
  },
  {
   "cell_type": "markdown",
   "metadata": {},
   "source": [
    "#### Almost all features are significat as per the p value. Feature weekday_pct is not signififcant, but after removing it and running the model again, results didnot change. Hence we will keep all the above features."
   ]
  },
  {
   "cell_type": "markdown",
   "metadata": {},
   "source": [
    "#### b) Run logistic regression and use K folds validation to check model metrics."
   ]
  },
  {
   "cell_type": "code",
   "execution_count": 687,
   "metadata": {
    "collapsed": false
   },
   "outputs": [
    {
     "name": "stdout",
     "output_type": "stream",
     "text": [
      "accuracy: 0.72\n",
      "precision: 0.74\n",
      "recall: 0.85\n"
     ]
    }
   ],
   "source": [
    "#use kfolds for cross validation and report on accuracy, precision and recall\n",
    "churn_arr = np.array(churn)\n",
    "kfold = KFold(len(y),n_folds=5)\n",
    "\n",
    "accuracies = []\n",
    "precisions = []\n",
    "recalls = []\n",
    "for train_index, test_index in kfold:\n",
    "    model = LogisticRegression()\n",
    "    model.fit(churn_arr[train_index], y[train_index])\n",
    "    y_predict = model.predict(churn_arr[test_index])\n",
    "    y_true = y[test_index]\n",
    "    accuracies.append(accuracy_score(y_true, y_predict))\n",
    "    precisions.append(precision_score(y_true, y_predict))\n",
    "    recalls.append(recall_score(y_true, y_predict))\n",
    "\n",
    "print \"accuracy:\", np.round(np.average(accuracies),2)\n",
    "print \"precision:\", np.round(np.average(precisions),2)\n",
    "print \"recall:\", np.round(np.average(recalls),2)"
   ]
  },
  {
   "cell_type": "markdown",
   "metadata": {},
   "source": [
    "#### c) Run randomforest"
   ]
  },
  {
   "cell_type": "code",
   "execution_count": 688,
   "metadata": {
    "collapsed": false
   },
   "outputs": [],
   "source": [
    "#sklearn's train_test_split to split into train and test set\n",
    "X_train, X_test, y_train, y_test = train_test_split(churn, y)"
   ]
  },
  {
   "cell_type": "code",
   "execution_count": 689,
   "metadata": {
    "collapsed": false
   },
   "outputs": [
    {
     "data": {
      "text/plain": [
       "RandomForestClassifier(bootstrap=True, class_weight=None, criterion='gini',\n",
       "            max_depth=None, max_features='auto', max_leaf_nodes=None,\n",
       "            min_impurity_split=1e-07, min_samples_leaf=1,\n",
       "            min_samples_split=2, min_weight_fraction_leaf=0.0,\n",
       "            n_estimators=10, n_jobs=1, oob_score=False, random_state=None,\n",
       "            verbose=0, warm_start=False)"
      ]
     },
     "execution_count": 689,
     "metadata": {},
     "output_type": "execute_result"
    }
   ],
   "source": [
    "#sklearn's RandomForestClassifier to build a model\n",
    "rf = RandomForestClassifier()\n",
    "rf.fit(X_train, y_train)"
   ]
  },
  {
   "cell_type": "markdown",
   "metadata": {},
   "source": [
    "#### Confusion matrix"
   ]
  },
  {
   "cell_type": "code",
   "execution_count": 690,
   "metadata": {
    "collapsed": false
   },
   "outputs": [
    {
     "name": "stdout",
     "output_type": "stream",
     "text": [
      "[[3274 1431]\n",
      " [1747 6048]]\n"
     ]
    }
   ],
   "source": [
    "#confusion matrix\n",
    "y_predict = rf.predict(X_test)\n",
    "print confusion_matrix(y_test, y_predict)"
   ]
  },
  {
   "cell_type": "code",
   "execution_count": 691,
   "metadata": {
    "collapsed": false
   },
   "outputs": [
    {
     "name": "stdout",
     "output_type": "stream",
     "text": [
      "accuracy: 0.75\n",
      "precision: 0.81\n",
      "recall: 0.78\n"
     ]
    }
   ],
   "source": [
    "print \"accuracy:\", np.round(rf.score(X_test, y_test),2)\n",
    "print \"precision:\", np.round(precision_score(y_test, y_predict),2)\n",
    "print \"recall:\", np.round(recall_score(y_test, y_predict),2)"
   ]
  },
  {
   "cell_type": "code",
   "execution_count": 692,
   "metadata": {
    "collapsed": false
   },
   "outputs": [
    {
     "name": "stdout",
     "output_type": "stream",
     "text": [
      "top five features: ['avg_dist', 'weekday_pct', 'avg_rating_by_driver', 'surge_pct', 'avg_rating_of_driver']\n"
     ]
    }
   ],
   "source": [
    "#feature importance\n",
    "feature_importances = np.argsort(rf.feature_importances_)\n",
    "print \"top five features:\", list(churn.columns[feature_importances[-1:-6:-1]])"
   ]
  },
  {
   "cell_type": "markdown",
   "metadata": {},
   "source": [
    "#### Find the right number of trees to model. In the below plot, accuracy is maximum at 175 trees."
   ]
  },
  {
   "cell_type": "code",
   "execution_count": 693,
   "metadata": {
    "collapsed": false
   },
   "outputs": [
    {
     "data": {
      "image/png": "[encoded data removed]",
      "text/plain": [
       "<matplotlib.figure.Figure at 0x11bc65410>"
      ]
     },
     "metadata": {},
     "output_type": "display_data"
    }
   ],
   "source": [
    "# 14. Try modifying the number of trees\n",
    "num_trees = range(5, 300, 10)\n",
    "accuracies = []\n",
    "for n in num_trees:\n",
    "    tot = 0\n",
    "    for i in xrange(5):\n",
    "        rf = RandomForestClassifier(n_estimators=n)\n",
    "        rf.fit(X_train, y_train)\n",
    "        tot += rf.score(X_test, y_test)\n",
    "    accuracies.append(tot / 5)\n",
    "plt.plot(num_trees, accuracies)\n",
    "plt.xlabel('No of trees')\n",
    "plt.ylabel('Accuracy')\n",
    "plt.show()"
   ]
  },
  {
   "cell_type": "markdown",
   "metadata": {},
   "source": [
    "#### Find the right number of max features to model. As per the below plot this number is 9."
   ]
  },
  {
   "cell_type": "code",
   "execution_count": 694,
   "metadata": {
    "collapsed": false
   },
   "outputs": [
    {
     "data": {
      "image/png": "[encoded data removed]",
      "text/plain": [
       "<matplotlib.figure.Figure at 0x11ae2b990>"
      ]
     },
     "metadata": {},
     "output_type": "display_data"
    }
   ],
   "source": [
    "num_features = range(1, len(churn.columns) + 1)\n",
    "accuracies = []\n",
    "for n in num_features:\n",
    "    tot = 0\n",
    "    for i in xrange(5):\n",
    "        rf = RandomForestClassifier(max_features=n,n_estimators=175)\n",
    "        rf.fit(X_train, y_train)\n",
    "        tot += rf.score(X_test, y_test)\n",
    "    accuracies.append(tot / 5)\n",
    "plt.plot(num_features, accuracies)\n",
    "plt.xlabel('No of features')\n",
    "plt.ylabel('Accuracy')\n",
    "plt.show()"
   ]
  },
  {
   "cell_type": "markdown",
   "metadata": {},
   "source": [
    "#### d) Try other models that are available."
   ]
  },
  {
   "cell_type": "code",
   "execution_count": 695,
   "metadata": {
    "collapsed": false
   },
   "outputs": [
    {
     "name": "stdout",
     "output_type": "stream",
     "text": [
      "    Model,        Accuracy,          Precision,            Recall\n",
      "    Random Forest: (0.75863999999999998, 0.80065441731688902, 0.81616420782552923)\n",
      "    Logistic Regression: (0.72255999999999998, 0.74170483744832982, 0.85169980756895447)\n",
      "    Decision Tree: (0.70864000000000005, 0.76591112818542706, 0.76728672225785766)\n",
      "    SVM: (0.76368000000000003, 0.78867024448419798, 0.84836433611289286)\n",
      "    Naive Bayes: (0.64824000000000004, 0.69945996712843395, 0.76433611289288006)\n"
     ]
    }
   ],
   "source": [
    "def get_scores(classifier, X_train, X_test, y_train, y_test, **kwargs):\n",
    "    model = classifier(**kwargs)\n",
    "    model.fit(X_train, y_train)\n",
    "    y_predict = model.predict(X_test)\n",
    "    return model.score(X_test, y_test), \\\n",
    "           precision_score(y_test, y_predict), \\\n",
    "           recall_score(y_test, y_predict)\n",
    "\n",
    "\n",
    "\n",
    "print \"    Model,        Accuracy,          Precision,            Recall\"\n",
    "print \"    Random Forest:\", get_scores(RandomForestClassifier, X_train, X_test, y_train, y_test, n_estimators=175, max_features=9, random_state =1)\n",
    "print \"    Logistic Regression:\", get_scores(LogisticRegression, X_train, X_test, y_train, y_test)\n",
    "print \"    Decision Tree:\", get_scores(DecisionTreeClassifier, X_train, X_test, y_train, y_test)\n",
    "print \"    SVM:\", get_scores(SVC, X_train, X_test, y_train, y_test)\n",
    "print \"    Naive Bayes:\", get_scores(MultinomialNB, X_train, X_test, y_train, y_test)"
   ]
  },
  {
   "cell_type": "markdown",
   "metadata": {},
   "source": [
    " **Randomforest and SVM(Support Vector Machines) have the best result. We chose Ramdomforest since it is faster and will perform better with larger datasets.**"
   ]
  },
  {
   "cell_type": "markdown",
   "metadata": {},
   "source": [
    "### 5. Find the right threshold"
   ]
  },
  {
   "cell_type": "markdown",
   "metadata": {},
   "source": [
    "** From a business perspective, the impact would be high when a potential churn is predicted incorrectly as no-churn (False Negative). There is also a loss when we incorrectly predict a user as churn (False Positive).This could be because the ride sharing company might incentivize a user to not leave by offering some promotions. If we incorrectly predict churn, the company tends to lose money on promotions to users who would have stayed anyway.**\n",
    "\n",
    "** For a business, a lost customer might be a bigger loss than money lost on promotions. So in this case False Negative(FN) might be slightly more important than False Positive(FP). So we will give more weightage to TPR in the ROC curve than FPR.**"
   ]
  },
  {
   "cell_type": "code",
   "execution_count": 696,
   "metadata": {
    "collapsed": false
   },
   "outputs": [],
   "source": [
    "#bulid ROC curve\n",
    "rf = RandomForestClassifier(n_estimators = 175,max_features = 9)\n",
    "rf.fit(X_train, y_train)\n",
    "y_predict = rf.predict(X_test)\n",
    "fpr, tpr, thresholds = roc_curve(y_test, y_predict)"
   ]
  },
  {
   "cell_type": "code",
   "execution_count": 697,
   "metadata": {
    "collapsed": false
   },
   "outputs": [
    {
     "name": "stdout",
     "output_type": "stream",
     "text": [
      "AUC: 0.74\n"
     ]
    }
   ],
   "source": [
    "auc = metrics.auc(fpr,tpr)\n",
    "print \"AUC:\",np.round(auc,2)"
   ]
  },
  {
   "cell_type": "code",
   "execution_count": 698,
   "metadata": {
    "collapsed": false
   },
   "outputs": [
    {
     "data": {
      "image/png": "[encoded data removed]",
      "text/plain": [
       "<matplotlib.figure.Figure at 0x11cd8fa90>"
      ]
     },
     "metadata": {},
     "output_type": "display_data"
    }
   ],
   "source": [
    "plt.title('Receiver Operating Characteristic')\n",
    "plt.plot(fpr, tpr, 'b', label = 'AUC = %0.2f' % auc)\n",
    "plt.legend(loc = 'lower right')\n",
    "plt.plot([0, 1], [0, 1],'r--')\n",
    "plt.xlim([0, 1])\n",
    "plt.ylim([0, 1])\n",
    "plt.ylabel('True Positive Rate')\n",
    "plt.xlabel('False Positive Rate')\n",
    "plt.show()"
   ]
  },
  {
   "cell_type": "markdown",
   "metadata": {},
   "source": [
    "** We can agree on a threshold of 0.5 since TPR is slightly more more important than FPR.**"
   ]
  },
  {
   "cell_type": "markdown",
   "metadata": {},
   "source": [
    "## 6. Conclusions and recommendations"
   ]
  },
  {
   "cell_type": "markdown",
   "metadata": {},
   "source": [
    " ** 1.We saw that a high percentage of Android users have churned compared to iPhone users. The company might want to look at their Android app to figure out why Android users are not as active as Iphone users.**\n",
    " \n",
    " ** 2.The company should look at the number of trips taken in the first 30 days by the customer. If the number of trips average at 3.3 and higher, there is a good chance that this user will be an active user. This feature allows us the company to predict if a customer will churn or not in the future.**\n",
    " \n",
    " **3.The active users tend to use the luxury car more than inactive users. The company can focus more can luxury car services and see if it improves retention.**\n",
    " \n",
    " **4.King's landing city has a higher ratio of active users. The company should look at the reasons and figure out if the same active users ratio can be increased in the other 2 cities.**"
   ]
  },
  {
   "cell_type": "code",
   "execution_count": null,
   "metadata": {
    "collapsed": true
   },
   "outputs": [],
   "source": []
  }
 ],
 "metadata": {
  "kernelspec": {
   "display_name": "Python 2",
   "language": "python",
   "name": "python2"
  },
  "language_info": {
   "codemirror_mode": {
    "name": "ipython",
    "version": 2
   },
   "file_extension": ".py",
   "mimetype": "text/x-python",
   "name": "python",
   "nbconvert_exporter": "python",
   "pygments_lexer": "ipython2",
   "version": "2.7.12"
  }
 },
 "nbformat": 4,
 "nbformat_minor": 0
}
